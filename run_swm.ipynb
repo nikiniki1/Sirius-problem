{
 "cells": [
  {
   "cell_type": "code",
   "execution_count": 1,
   "id": "f9835784",
   "metadata": {},
   "outputs": [],
   "source": [
    "%load_ext autoreload\n",
    "%autoreload 2\n",
    "\n",
    "from state import State\n",
    "from domain import Domain\n",
    "from swe_operators import SweAdvectiveFormOperator\n",
    "from time_schemes import rk4\n",
    "from initial_conditions import gaussian_hill, barotropic_instability, geostrophic_balance\n",
    "import operators as op\n",
    "from vizualization import trisurf_field, animate_trisurf, surf_interpolated_field, animate_interpolated_surf, \\\n",
    "                          animate_tripcolor, tripcolor_field, imshow_interpolated_field\n",
    "\n",
    "import numpy as np\n",
    "from vecmath import calc_mass\n",
    "%matplotlib notebook"
   ]
  },
  {
   "cell_type": "code",
   "execution_count": 2,
   "id": "f15c0974",
   "metadata": {},
   "outputs": [],
   "source": [
    "# definition of computational domain constants\n",
    "RADZ = 6371.22 * 1000.0 # \"Earth\" radii in meters\n",
    "GRAV = 9.80616 # \"Earth\" gravity acceleration in m * s**(-2)\n",
    "OMEGA = 7.292 * 10**(-5) # \"Earth\" angular velocity in rad * s**(-1)\n",
    "PCORI = 2 * OMEGA # Coriolis parameter\n",
    "H_MEAN = 10 * 1000.0 # \"Earth\" mean atmosphere depth\n",
    "C_GRAV = np.sqrt(GRAV * H_MEAN) # Gravity wave speed\n",
    "LX = 2 * np.pi * RADZ # domain size [0, LX] x [0, LY]\n",
    "LY = 2 * np.pi * RADZ # domain size [0, LX] x [0, LY]"
   ]
  },
  {
   "cell_type": "markdown",
   "id": "7ad2f150",
   "metadata": {},
   "source": [
    "Несколько примеров использования"
   ]
  },
  {
   "cell_type": "markdown",
   "id": "1e479d31",
   "metadata": {},
   "source": [
    "# Разбегание горки, два блока с одинаковым разрешением"
   ]
  },
  {
   "cell_type": "code",
   "execution_count": null,
   "id": "d1defaff",
   "metadata": {},
   "outputs": [],
   "source": [
    "%%time\n",
    "import time\n",
    "from IPython.display import display, clear_output\n",
    "\n",
    "domains = [Domain(xs = 0.0,    xe = LX / 2, nx = 32, ys = 0.0, ye = LY, ny = 64,  lx=LX, ly=LY), \\\n",
    "           Domain(xs = LX / 2, xe = LX    , nx = 32, ys = 0.0, ye = LY, ny = 64,  lx=LX, ly=LY)]\n",
    "\n",
    "state = gaussian_hill(domains, H_MEAN)\n",
    "swe_operator = SweAdvectiveFormOperator(g=GRAV, pcori=0.0, diff_method = op.diff_sbp21)\n",
    "\n",
    "T = 2 * 24 * 3600\n",
    "Nt = 2* 120\n",
    "dt = T / Nt\n",
    "\n",
    "states_list = [state]\n",
    "for k in range(Nt+1):\n",
    "    clear_output(wait=True)\n",
    "    display('Time step '+str(k))\n",
    "    state = rk4(state, swe_operator, dt, domains)\n",
    "    states_list.append(state)\n",
    "    "
   ]
  },
  {
   "cell_type": "code",
   "execution_count": null,
   "id": "87530406",
   "metadata": {},
   "outputs": [],
   "source": [
    "h_list = [state.h for state in states_list]"
   ]
  },
  {
   "cell_type": "code",
   "execution_count": null,
   "id": "697808bc",
   "metadata": {},
   "outputs": [],
   "source": [
    "animate_trisurf(h_list, domains, 4)"
   ]
  },
  {
   "cell_type": "code",
   "execution_count": null,
   "id": "bf721022",
   "metadata": {},
   "outputs": [],
   "source": [
    "%%time\n",
    "import time\n",
    "from IPython.display import display, clear_output\n",
    "\n",
    "domains = [Domain(xs = 0.0,    xe = LX / 2, nx = 32, ys = 0.0, ye = LY, ny = 64,  lx=LX, ly=LY), \\\n",
    "           Domain(xs = LX / 2, xe = LX    , nx = 16, ys = 0.0, ye = LY, ny = 32,  lx=LX, ly=LY)]\n",
    "\n",
    "state = gaussian_hill(domains, H_MEAN)\n",
    "swe_operator = SweAdvectiveFormOperator(g=GRAV, pcori=0.0, diff_method = op.diff_sbp21)\n",
    "\n",
    "T = 2 * 24 * 3600\n",
    "Nt = 2* 120\n",
    "dt = T / Nt\n",
    "\n",
    "states_list = [state]\n",
    "for k in range(Nt+1):\n",
    "    clear_output(wait=True)\n",
    "    display('Time step '+str(k))\n",
    "    state = rk4(state, swe_operator, dt, domains)\n",
    "    states_list.append(state)"
   ]
  },
  {
   "cell_type": "code",
   "execution_count": null,
   "id": "6921b411",
   "metadata": {},
   "outputs": [],
   "source": [
    "h_list = [state.h for state in states_list]"
   ]
  },
  {
   "cell_type": "code",
   "execution_count": null,
   "id": "ab8e8173",
   "metadata": {},
   "outputs": [],
   "source": [
    "animate_trisurf(h_list, domains, 4)"
   ]
  }
 ],
 "metadata": {
  "kernelspec": {
   "display_name": "Python 3 (ipykernel)",
   "language": "python",
   "name": "python3"
  },
  "language_info": {
   "codemirror_mode": {
    "name": "ipython",
    "version": 3
   },
   "file_extension": ".py",
   "mimetype": "text/x-python",
   "name": "python",
   "nbconvert_exporter": "python",
   "pygments_lexer": "ipython3",
   "version": "3.8.8"
  }
 },
 "nbformat": 4,
 "nbformat_minor": 5
}
