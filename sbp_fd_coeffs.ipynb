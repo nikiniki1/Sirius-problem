{
 "cells": [
  {
   "cell_type": "markdown",
   "id": "061337b6",
   "metadata": {
    "pycharm": {
     "name": "#%% md\n"
    }
   },
   "source": [
    "# SBP разности порядка 2-1\n",
    "\n",
    "\\begin{align}\\Large\n",
    "f'_0 = \\frac{f_1 - f_0}{dx}, \\quad f'_n = \\frac{f_n - f_{n-1}}{dx}, \\quad \\quad f'_i = \\frac{f_{i+1} - f_{i-1}}{2dx}\n",
    "\\end{align}"
   ]
  },
  {
   "cell_type": "markdown",
   "id": "abf8b886",
   "metadata": {
    "pycharm": {
     "name": "#%% md\n"
    }
   },
   "source": [
    "# SBP разности порядка 4-2\n",
    "\\begin{align}\n",
    "\\Large f'_0 &= \\left(-\\frac{24}{17} f_0 + \\frac{59}{34} f_1 - \\frac{4}{17} f_2 - \\frac{3}{34} f_3 \\right)/dx, \\\\\n",
    "\\Large f'_1 &= \\left(-\\frac{1}{2} f_0 + \\frac{1}{2} f_2\\right) / dx, \\\\\n",
    "\\Large f'_2 &= \\left(\\frac{4}{43} f_0 - \\frac{59}{86} f_1 + \\frac{59}{86} f_3 - \\frac{4}{43} f_4\\right)/dx, \\\\\n",
    "\\Large f'_3 &= \\left(\\frac{3}{98} f_0 - \\frac{59}{98} f_2 + \\frac{32}{49} f_4 - \\frac{4}{49} f_5\\right)/dx, \\\\\n",
    "\\Large f'_i &= \\left(f_{i-2} - 8.0 f_{i-1} + 8.0 f_{i+1} - f_{i+2}\\right) / 12 / dx, \\\\\n",
    "\\Large f'_n &= \\left(\\frac{24}{17} f_n - \\frac{59}{34} f_{n-1} + \\frac{4}{17} f_{n-2} + \\frac{3}{34} f_{n-3} \\right)/dx, \\\\\n",
    "\\Large f'_{n-1} &= \\left(\\frac{1}{2} f_n + \\frac{1}{2} f_{n-2}\\right) / dx, \\\\\n",
    "\\Large f'_{n-2} &= \\left(-\\frac{4}{43} f_n + \\frac{59}{86} f_{n-1} - \\frac{59}{86} f_{n-3} + \\frac{4}{43} f_{n-4}\\right)/dx, \\\\\n",
    "\\Large f'_{n-3} &= \\left(-\\frac{3}{98} f_n + \\frac{59}{98} f_{n-2} - \\frac{32}{49} f_{n-4} + \\frac{4}{49} f_{n-5}\\right)/dx\n",
    "\\end{align}"
   ]
  },
  {
   "cell_type": "markdown",
   "id": "1be32d24",
   "metadata": {
    "pycharm": {
     "name": "#%% md\n"
    }
   },
   "source": [
    "# Коэффициенты интерполяции"
   ]
  },
  {
   "cell_type": "markdown",
   "id": "695eb1a2",
   "metadata": {
    "pycharm": {
     "name": "#%% md\n"
    }
   },
   "source": [
    "# Интерполяция с грубой на мелкую сетку второго порядка\n",
    "\n",
    "\\begin{align}\n",
    "& \\Large f^f_{2i} = f^c_{i}, \\ i=0,..., n\\\\\n",
    "& \\Large f^f_{2i+1} = (f^c_{i}+f^c_{i+1}) / 2, \\ i=0,..., n-1\n",
    "\\end{align}\n",
    "\n",
    "# Интерполяция с мелкой сетки грубую второго порядка\n",
    "\n",
    "\\begin{align}\n",
    "& \\Large f^с_{i} = (f^f_{2i-1} + 2f^f_{2i} + f^f_{2i+1})/4, \\ i=0,..., n\n",
    "\\end{align}"
   ]
  },
  {
   "cell_type": "markdown",
   "id": "545e0d7b",
   "metadata": {
    "pycharm": {
     "name": "#%% md\n"
    }
   },
   "source": [
    "# Интерполяция с грубой на мелкую сетку четвертого порядка\n",
    "\n",
    "\\begin{align}\n",
    "& \\Large f^f_{2i} = f^c_{i},\\ i=0,..., n\\\\\n",
    "& \\Large f^f_{2i+1} = (-f^c_{i-1} + 9f^c_{i}+9f^c_{i+1}-f^c_{i+2}) / 16,\\ i=0,..., n-1\n",
    "\\end{align}"
   ]
  },
  {
   "cell_type": "markdown",
   "id": "842a0f7f",
   "metadata": {
    "pycharm": {
     "name": "#%% md\n"
    }
   },
   "source": [
    "# Интерполяция с мелкой сетки грубую второго порядка\n",
    "\n",
    "\\begin{align}\n",
    "& \\Large f^с_{i} = (-f^f_{2i-3} + 9f^f_{2i-1} + 16f^f_{2i} + 9f^f_{2i+1} - f^f_{2i+3})/32, \\ i=0,..., n\n",
    "\\end{align}"
   ]
  },
  {
   "cell_type": "code",
   "execution_count": null,
   "id": "8a47a4b8",
   "metadata": {
    "pycharm": {
     "name": "#%%\n"
    }
   },
   "outputs": [],
   "source": []
  }
 ],
 "metadata": {
  "kernelspec": {
   "display_name": "Python 3 (ipykernel)",
   "language": "python",
   "name": "python3"
  },
  "language_info": {
   "codemirror_mode": {
    "name": "ipython",
    "version": 3
   },
   "file_extension": ".py",
   "mimetype": "text/x-python",
   "name": "python",
   "nbconvert_exporter": "python",
   "pygments_lexer": "ipython3",
   "version": "3.9.12"
  }
 },
 "nbformat": 4,
 "nbformat_minor": 5
}