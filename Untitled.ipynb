{
 "cells": [
  {
   "cell_type": "code",
   "execution_count": 1,
   "id": "ee5644b3",
   "metadata": {},
   "outputs": [
    {
     "name": "stderr",
     "output_type": "stream",
     "text": [
      "<>:1: SyntaxWarning: 'NoneType' object is not callable; perhaps you missed a comma?\n",
      "<>:1: SyntaxWarning: 'NoneType' object is not callable; perhaps you missed a comma?\n",
      "C:\\Users\\Гордей\\AppData\\Local\\Temp\\ipykernel_22492\\1189473237.py:1: SyntaxWarning: 'NoneType' object is not callable; perhaps you missed a comma?\n",
      "  None(1)\n",
      "C:\\Users\\Гордей\\AppData\\Local\\Temp\\ipykernel_22492\\1189473237.py:1: SyntaxWarning: 'NoneType' object is not callable; perhaps you missed a comma?\n",
      "  None(1)\n",
      "C:\\Users\\Гордей\\AppData\\Local\\Temp\\ipykernel_22492\\1189473237.py:1: SyntaxWarning: 'NoneType' object is not callable; perhaps you missed a comma?\n",
      "  None(1)\n"
     ]
    },
    {
     "ename": "TypeError",
     "evalue": "'NoneType' object is not callable",
     "output_type": "error",
     "traceback": [
      "\u001b[1;31m---------------------------------------------------------------------------\u001b[0m",
      "\u001b[1;31mTypeError\u001b[0m                                 Traceback (most recent call last)",
      "Input \u001b[1;32mIn [1]\u001b[0m, in \u001b[0;36m<cell line: 1>\u001b[1;34m()\u001b[0m\n\u001b[1;32m----> 1\u001b[0m \u001b[38;5;28;43;01mNone\u001b[39;49;00m\u001b[43m(\u001b[49m\u001b[38;5;241;43m1\u001b[39;49m\u001b[43m)\u001b[49m\n",
      "\u001b[1;31mTypeError\u001b[0m: 'NoneType' object is not callable"
     ]
    }
   ],
   "source": [
    "None(1)"
   ]
  },
  {
   "cell_type": "code",
   "execution_count": null,
   "id": "cb1660c2",
   "metadata": {},
   "outputs": [],
   "source": []
  }
 ],
 "metadata": {
  "kernelspec": {
   "display_name": "Python 3 (ipykernel)",
   "language": "python",
   "name": "python3"
  },
  "language_info": {
   "codemirror_mode": {
    "name": "ipython",
    "version": 3
   },
   "file_extension": ".py",
   "mimetype": "text/x-python",
   "name": "python",
   "nbconvert_exporter": "python",
   "pygments_lexer": "ipython3",
   "version": "3.9.12"
  }
 },
 "nbformat": 4,
 "nbformat_minor": 5
}
